{
 "cells": [
  {
   "cell_type": "code",
   "execution_count": 5,
   "id": "809ed66b",
   "metadata": {},
   "outputs": [],
   "source": [
    "from pyspark.sql import SparkSession"
   ]
  },
  {
   "cell_type": "code",
   "execution_count": 6,
   "id": "c789bb7a",
   "metadata": {},
   "outputs": [],
   "source": [
    "#df.na.-----to delete or modify(fill or drop) columns null values"
   ]
  },
  {
   "cell_type": "code",
   "execution_count": 16,
   "id": "a1e13a08",
   "metadata": {},
   "outputs": [],
   "source": [
    "#spark = SparkSession.builder.appName('app').getOrCreate()"
   ]
  },
  {
   "cell_type": "code",
   "execution_count": 17,
   "id": "18a1c1e8",
   "metadata": {},
   "outputs": [],
   "source": [
    "#df = spark.read.csv('appl_stock.csv', header = True,inferSchema = True)"
   ]
  },
  {
   "cell_type": "code",
   "execution_count": 12,
   "id": "6300bf41",
   "metadata": {},
   "outputs": [],
   "source": [
    "from pyspark.sql.functions import (dayofmonth,hour,\n",
    "                                   dayofyear,month,\n",
    "                                   year,weekofyear,\n",
    "                                   format_number,date_format)"
   ]
  },
  {
   "cell_type": "code",
   "execution_count": 18,
   "id": "4f85c829",
   "metadata": {},
   "outputs": [],
   "source": [
    "#df.select(dayofmonth(df['Date'])).show()"
   ]
  },
  {
   "cell_type": "code",
   "execution_count": 19,
   "id": "7e6fc6c5",
   "metadata": {},
   "outputs": [],
   "source": [
    "#newdf.withColumn('Year',year(df['Date']))"
   ]
  },
  {
   "cell_type": "code",
   "execution_count": 21,
   "id": "25b80723",
   "metadata": {},
   "outputs": [],
   "source": [
    "#res = newdf.groupBy('Year').mean().select([\"Year\",\"avg(close)\"])"
   ]
  },
  {
   "cell_type": "code",
   "execution_count": 22,
   "id": "2a7850ee",
   "metadata": {},
   "outputs": [],
   "source": [
    "#res.show()"
   ]
  },
  {
   "cell_type": "code",
   "execution_count": 23,
   "id": "d5467e22",
   "metadata": {},
   "outputs": [],
   "source": [
    "#new = res.withColumnRenamed(\"avg(close)\",\"Average closing price\")"
   ]
  },
  {
   "cell_type": "code",
   "execution_count": null,
   "id": "6b0b7e5d",
   "metadata": {},
   "outputs": [],
   "source": [
    "#new.select(['Year',format_number('Average closing price',2).alias('Avg close')])"
   ]
  }
 ],
 "metadata": {
  "kernelspec": {
   "display_name": "Python 3 (ipykernel)",
   "language": "python",
   "name": "python3"
  },
  "language_info": {
   "codemirror_mode": {
    "name": "ipython",
    "version": 3
   },
   "file_extension": ".py",
   "mimetype": "text/x-python",
   "name": "python",
   "nbconvert_exporter": "python",
   "pygments_lexer": "ipython3",
   "version": "3.9.6"
  }
 },
 "nbformat": 4,
 "nbformat_minor": 5
}
